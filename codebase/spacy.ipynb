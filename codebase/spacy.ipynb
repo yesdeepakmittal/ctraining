{
  "nbformat": 4,
  "nbformat_minor": 0,
  "metadata": {
    "colab": {
      "name": "spacy",
      "provenance": [],
      "authorship_tag": "ABX9TyOSB4LBDDcPR2srK/ejbFpO",
      "include_colab_link": true
    },
    "kernelspec": {
      "name": "python3",
      "display_name": "Python 3"
    },
    "language_info": {
      "name": "python"
    }
  },
  "cells": [
    {
      "cell_type": "markdown",
      "metadata": {
        "id": "view-in-github",
        "colab_type": "text"
      },
      "source": [
        "<a href=\"https://colab.research.google.com/github/yesdeepakmittal/NLP/blob/master/codebase/spacy.ipynb\" target=\"_parent\"><img src=\"https://colab.research.google.com/assets/colab-badge.svg\" alt=\"Open In Colab\"/></a>"
      ]
    },
    {
      "cell_type": "code",
      "execution_count": 1,
      "metadata": {
        "colab": {
          "base_uri": "https://localhost:8080/"
        },
        "id": "hp0CPnHvUE6Z",
        "outputId": "606b5136-6873-438b-a1d3-ecd5792d1d56"
      },
      "outputs": [
        {
          "output_type": "stream",
          "name": "stdout",
          "text": [
            "My           DET    561228191312463089     -PRON-\n",
            "computer     NOUN   4912942957612137283    computer\n",
            "has          AUX    14692702688101715474   have\n",
            "a            DET    11901859001352538922   a\n",
            "good         ADJ    5711639017775284443    good\n",
            "GPU          PROPN  10753467495946106971   GPU\n",
            "power        NOUN   10405720708504167118   power\n",
            "even         ADV    17339226045912991082   even\n",
            "then         ADV    2630753287402592467    then\n",
            "I            PRON   561228191312463089     -PRON-\n",
            "use          VERB   6873750497785110593    use\n",
            "Azure        ADJ    9805150402525830243    azure\n",
            "cloud        NOUN   13981346438767540862   cloud\n",
            "to           PART   3791531372978436496    to\n",
            "train        VERB   810618180531611251     train\n",
            "Deep         PROPN  4140589279381419181    Deep\n",
            "Learning     PROPN  7159313174421290938    Learning\n",
            "models       NOUN   5265715978910192994    model\n",
            ".            PUNCT  12646065887601541794   .\n"
          ]
        }
      ],
      "source": [
        "import spacy\n",
        "nlp = spacy.load('en_core_web_sm')\n",
        "\n",
        "def lemma(var):\n",
        "    for token in var:\n",
        "        print(f'{token.text:{12}} {token.pos_:{6}} {token.lemma:<{22}} {token.lemma_}')\n",
        "\n",
        "inp_text = nlp(u\"My computer has a good GPU power even then I use Azure cloud to train Deep Learning models.\")\n",
        "\n",
        "lemma(inp_text)"
      ]
    },
    {
      "cell_type": "code",
      "source": [
        ""
      ],
      "metadata": {
        "id": "b-i-vtceUmH1"
      },
      "execution_count": null,
      "outputs": []
    }
  ]
}