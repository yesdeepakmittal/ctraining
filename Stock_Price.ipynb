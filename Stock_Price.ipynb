{
  "nbformat": 4,
  "nbformat_minor": 0,
  "metadata": {
    "colab": {
      "name": "Untitled9.ipynb",
      "provenance": [],
      "authorship_tag": "ABX9TyNWPFXHfOuLE0toHispCeCg"
    },
    "kernelspec": {
      "name": "python3",
      "display_name": "Python 3"
    }
  },
  "cells": [
    {
      "cell_type": "code",
      "metadata": {
        "id": "P5wbWdLGrEVq",
        "colab_type": "code",
        "colab": {}
      },
      "source": [
        "import datetime\n",
        "import pandas_datareader.data as web\n",
        "import numpy as np"
      ],
      "execution_count": 12,
      "outputs": []
    },
    {
      "cell_type": "code",
      "metadata": {
        "id": "5-9RQ-xOsb_9",
        "colab_type": "code",
        "colab": {
          "base_uri": "https://localhost:8080/",
          "height": 230
        },
        "outputId": "ab19920a-6650-4188-bdcb-d37bc33fade7"
      },
      "source": [
        "start = datetime.datetime(2018, 1, 1)\n",
        "end = datetime.datetime.now()\n",
        "stock='TSLA'\n",
        "df = web.DataReader(stock, 'yahoo', start, end)\n",
        "df.head()"
      ],
      "execution_count": 31,
      "outputs": [
        {
          "output_type": "execute_result",
          "data": {
            "text/html": [
              "<div>\n",
              "<style scoped>\n",
              "    .dataframe tbody tr th:only-of-type {\n",
              "        vertical-align: middle;\n",
              "    }\n",
              "\n",
              "    .dataframe tbody tr th {\n",
              "        vertical-align: top;\n",
              "    }\n",
              "\n",
              "    .dataframe thead th {\n",
              "        text-align: right;\n",
              "    }\n",
              "</style>\n",
              "<table border=\"1\" class=\"dataframe\">\n",
              "  <thead>\n",
              "    <tr style=\"text-align: right;\">\n",
              "      <th></th>\n",
              "      <th>High</th>\n",
              "      <th>Low</th>\n",
              "      <th>Open</th>\n",
              "      <th>Close</th>\n",
              "      <th>Volume</th>\n",
              "      <th>Adj Close</th>\n",
              "    </tr>\n",
              "    <tr>\n",
              "      <th>Date</th>\n",
              "      <th></th>\n",
              "      <th></th>\n",
              "      <th></th>\n",
              "      <th></th>\n",
              "      <th></th>\n",
              "      <th></th>\n",
              "    </tr>\n",
              "  </thead>\n",
              "  <tbody>\n",
              "    <tr>\n",
              "      <th>2018-01-02</th>\n",
              "      <td>64.421997</td>\n",
              "      <td>62.200001</td>\n",
              "      <td>62.400002</td>\n",
              "      <td>64.106003</td>\n",
              "      <td>21761000.0</td>\n",
              "      <td>64.106003</td>\n",
              "    </tr>\n",
              "    <tr>\n",
              "      <th>2018-01-03</th>\n",
              "      <td>65.050003</td>\n",
              "      <td>63.110001</td>\n",
              "      <td>64.199997</td>\n",
              "      <td>63.450001</td>\n",
              "      <td>22607500.0</td>\n",
              "      <td>63.450001</td>\n",
              "    </tr>\n",
              "    <tr>\n",
              "      <th>2018-01-04</th>\n",
              "      <td>63.709999</td>\n",
              "      <td>61.136002</td>\n",
              "      <td>62.574001</td>\n",
              "      <td>62.924000</td>\n",
              "      <td>49731500.0</td>\n",
              "      <td>62.924000</td>\n",
              "    </tr>\n",
              "    <tr>\n",
              "      <th>2018-01-05</th>\n",
              "      <td>63.448002</td>\n",
              "      <td>62.400002</td>\n",
              "      <td>63.324001</td>\n",
              "      <td>63.316002</td>\n",
              "      <td>22956000.0</td>\n",
              "      <td>63.316002</td>\n",
              "    </tr>\n",
              "    <tr>\n",
              "      <th>2018-01-08</th>\n",
              "      <td>67.403999</td>\n",
              "      <td>63.099998</td>\n",
              "      <td>63.200001</td>\n",
              "      <td>67.281998</td>\n",
              "      <td>49297000.0</td>\n",
              "      <td>67.281998</td>\n",
              "    </tr>\n",
              "  </tbody>\n",
              "</table>\n",
              "</div>"
            ],
            "text/plain": [
              "                 High        Low       Open      Close      Volume  Adj Close\n",
              "Date                                                                         \n",
              "2018-01-02  64.421997  62.200001  62.400002  64.106003  21761000.0  64.106003\n",
              "2018-01-03  65.050003  63.110001  64.199997  63.450001  22607500.0  63.450001\n",
              "2018-01-04  63.709999  61.136002  62.574001  62.924000  49731500.0  62.924000\n",
              "2018-01-05  63.448002  62.400002  63.324001  63.316002  22956000.0  63.316002\n",
              "2018-01-08  67.403999  63.099998  63.200001  67.281998  49297000.0  67.281998"
            ]
          },
          "metadata": {
            "tags": []
          },
          "execution_count": 31
        }
      ]
    },
    {
      "cell_type": "code",
      "metadata": {
        "id": "Q1CRQiiZssIG",
        "colab_type": "code",
        "colab": {
          "base_uri": "https://localhost:8080/",
          "height": 230
        },
        "outputId": "4d5e8af3-14e3-480e-a901-90a9043543a5"
      },
      "source": [
        "df['Close_Tomorrow'] = df['Close'].shift(-1)\n",
        "df.head()"
      ],
      "execution_count": 32,
      "outputs": [
        {
          "output_type": "execute_result",
          "data": {
            "text/html": [
              "<div>\n",
              "<style scoped>\n",
              "    .dataframe tbody tr th:only-of-type {\n",
              "        vertical-align: middle;\n",
              "    }\n",
              "\n",
              "    .dataframe tbody tr th {\n",
              "        vertical-align: top;\n",
              "    }\n",
              "\n",
              "    .dataframe thead th {\n",
              "        text-align: right;\n",
              "    }\n",
              "</style>\n",
              "<table border=\"1\" class=\"dataframe\">\n",
              "  <thead>\n",
              "    <tr style=\"text-align: right;\">\n",
              "      <th></th>\n",
              "      <th>High</th>\n",
              "      <th>Low</th>\n",
              "      <th>Open</th>\n",
              "      <th>Close</th>\n",
              "      <th>Volume</th>\n",
              "      <th>Adj Close</th>\n",
              "      <th>Close_Tomorrow</th>\n",
              "    </tr>\n",
              "    <tr>\n",
              "      <th>Date</th>\n",
              "      <th></th>\n",
              "      <th></th>\n",
              "      <th></th>\n",
              "      <th></th>\n",
              "      <th></th>\n",
              "      <th></th>\n",
              "      <th></th>\n",
              "    </tr>\n",
              "  </thead>\n",
              "  <tbody>\n",
              "    <tr>\n",
              "      <th>2018-01-02</th>\n",
              "      <td>64.421997</td>\n",
              "      <td>62.200001</td>\n",
              "      <td>62.400002</td>\n",
              "      <td>64.106003</td>\n",
              "      <td>21761000.0</td>\n",
              "      <td>64.106003</td>\n",
              "      <td>63.450001</td>\n",
              "    </tr>\n",
              "    <tr>\n",
              "      <th>2018-01-03</th>\n",
              "      <td>65.050003</td>\n",
              "      <td>63.110001</td>\n",
              "      <td>64.199997</td>\n",
              "      <td>63.450001</td>\n",
              "      <td>22607500.0</td>\n",
              "      <td>63.450001</td>\n",
              "      <td>62.924000</td>\n",
              "    </tr>\n",
              "    <tr>\n",
              "      <th>2018-01-04</th>\n",
              "      <td>63.709999</td>\n",
              "      <td>61.136002</td>\n",
              "      <td>62.574001</td>\n",
              "      <td>62.924000</td>\n",
              "      <td>49731500.0</td>\n",
              "      <td>62.924000</td>\n",
              "      <td>63.316002</td>\n",
              "    </tr>\n",
              "    <tr>\n",
              "      <th>2018-01-05</th>\n",
              "      <td>63.448002</td>\n",
              "      <td>62.400002</td>\n",
              "      <td>63.324001</td>\n",
              "      <td>63.316002</td>\n",
              "      <td>22956000.0</td>\n",
              "      <td>63.316002</td>\n",
              "      <td>67.281998</td>\n",
              "    </tr>\n",
              "    <tr>\n",
              "      <th>2018-01-08</th>\n",
              "      <td>67.403999</td>\n",
              "      <td>63.099998</td>\n",
              "      <td>63.200001</td>\n",
              "      <td>67.281998</td>\n",
              "      <td>49297000.0</td>\n",
              "      <td>67.281998</td>\n",
              "      <td>66.737999</td>\n",
              "    </tr>\n",
              "  </tbody>\n",
              "</table>\n",
              "</div>"
            ],
            "text/plain": [
              "                 High        Low  ...  Adj Close  Close_Tomorrow\n",
              "Date                              ...                           \n",
              "2018-01-02  64.421997  62.200001  ...  64.106003       63.450001\n",
              "2018-01-03  65.050003  63.110001  ...  63.450001       62.924000\n",
              "2018-01-04  63.709999  61.136002  ...  62.924000       63.316002\n",
              "2018-01-05  63.448002  62.400002  ...  63.316002       67.281998\n",
              "2018-01-08  67.403999  63.099998  ...  67.281998       66.737999\n",
              "\n",
              "[5 rows x 7 columns]"
            ]
          },
          "metadata": {
            "tags": []
          },
          "execution_count": 32
        }
      ]
    },
    {
      "cell_type": "code",
      "metadata": {
        "id": "swuZoyPPtM1c",
        "colab_type": "code",
        "colab": {
          "base_uri": "https://localhost:8080/",
          "height": 230
        },
        "outputId": "658775be-e671-4b66-b321-0de9b838e425"
      },
      "source": [
        "df.dropna(inplace=True)\n",
        "df['Daily_Return'] = (df['Close_Tomorrow'] - df['Close']) / df['Close']\n",
        "df.head()"
      ],
      "execution_count": 33,
      "outputs": [
        {
          "output_type": "execute_result",
          "data": {
            "text/html": [
              "<div>\n",
              "<style scoped>\n",
              "    .dataframe tbody tr th:only-of-type {\n",
              "        vertical-align: middle;\n",
              "    }\n",
              "\n",
              "    .dataframe tbody tr th {\n",
              "        vertical-align: top;\n",
              "    }\n",
              "\n",
              "    .dataframe thead th {\n",
              "        text-align: right;\n",
              "    }\n",
              "</style>\n",
              "<table border=\"1\" class=\"dataframe\">\n",
              "  <thead>\n",
              "    <tr style=\"text-align: right;\">\n",
              "      <th></th>\n",
              "      <th>High</th>\n",
              "      <th>Low</th>\n",
              "      <th>Open</th>\n",
              "      <th>Close</th>\n",
              "      <th>Volume</th>\n",
              "      <th>Adj Close</th>\n",
              "      <th>Close_Tomorrow</th>\n",
              "      <th>Daily_Return</th>\n",
              "    </tr>\n",
              "    <tr>\n",
              "      <th>Date</th>\n",
              "      <th></th>\n",
              "      <th></th>\n",
              "      <th></th>\n",
              "      <th></th>\n",
              "      <th></th>\n",
              "      <th></th>\n",
              "      <th></th>\n",
              "      <th></th>\n",
              "    </tr>\n",
              "  </thead>\n",
              "  <tbody>\n",
              "    <tr>\n",
              "      <th>2018-01-02</th>\n",
              "      <td>64.421997</td>\n",
              "      <td>62.200001</td>\n",
              "      <td>62.400002</td>\n",
              "      <td>64.106003</td>\n",
              "      <td>21761000.0</td>\n",
              "      <td>64.106003</td>\n",
              "      <td>63.450001</td>\n",
              "      <td>-0.010233</td>\n",
              "    </tr>\n",
              "    <tr>\n",
              "      <th>2018-01-03</th>\n",
              "      <td>65.050003</td>\n",
              "      <td>63.110001</td>\n",
              "      <td>64.199997</td>\n",
              "      <td>63.450001</td>\n",
              "      <td>22607500.0</td>\n",
              "      <td>63.450001</td>\n",
              "      <td>62.924000</td>\n",
              "      <td>-0.008290</td>\n",
              "    </tr>\n",
              "    <tr>\n",
              "      <th>2018-01-04</th>\n",
              "      <td>63.709999</td>\n",
              "      <td>61.136002</td>\n",
              "      <td>62.574001</td>\n",
              "      <td>62.924000</td>\n",
              "      <td>49731500.0</td>\n",
              "      <td>62.924000</td>\n",
              "      <td>63.316002</td>\n",
              "      <td>0.006230</td>\n",
              "    </tr>\n",
              "    <tr>\n",
              "      <th>2018-01-05</th>\n",
              "      <td>63.448002</td>\n",
              "      <td>62.400002</td>\n",
              "      <td>63.324001</td>\n",
              "      <td>63.316002</td>\n",
              "      <td>22956000.0</td>\n",
              "      <td>63.316002</td>\n",
              "      <td>67.281998</td>\n",
              "      <td>0.062638</td>\n",
              "    </tr>\n",
              "    <tr>\n",
              "      <th>2018-01-08</th>\n",
              "      <td>67.403999</td>\n",
              "      <td>63.099998</td>\n",
              "      <td>63.200001</td>\n",
              "      <td>67.281998</td>\n",
              "      <td>49297000.0</td>\n",
              "      <td>67.281998</td>\n",
              "      <td>66.737999</td>\n",
              "      <td>-0.008085</td>\n",
              "    </tr>\n",
              "  </tbody>\n",
              "</table>\n",
              "</div>"
            ],
            "text/plain": [
              "                 High        Low  ...  Close_Tomorrow  Daily_Return\n",
              "Date                              ...                              \n",
              "2018-01-02  64.421997  62.200001  ...       63.450001     -0.010233\n",
              "2018-01-03  65.050003  63.110001  ...       62.924000     -0.008290\n",
              "2018-01-04  63.709999  61.136002  ...       63.316002      0.006230\n",
              "2018-01-05  63.448002  62.400002  ...       67.281998      0.062638\n",
              "2018-01-08  67.403999  63.099998  ...       66.737999     -0.008085\n",
              "\n",
              "[5 rows x 8 columns]"
            ]
          },
          "metadata": {
            "tags": []
          },
          "execution_count": 33
        }
      ]
    },
    {
      "cell_type": "code",
      "metadata": {
        "id": "WRy8x8v2t3LG",
        "colab_type": "code",
        "colab": {
          "base_uri": "https://localhost:8080/",
          "height": 230
        },
        "outputId": "75c61d27-9d15-4565-a8cc-41a9960ab4c8"
      },
      "source": [
        "# [1 if df.loc[date, 'Daily_Return'] > 0 else -1 for date in df.index]\n",
        "df[\"Direction\"] = np.where(df.Daily_Return > 0,1,-1)\n",
        "df.head()"
      ],
      "execution_count": 34,
      "outputs": [
        {
          "output_type": "execute_result",
          "data": {
            "text/html": [
              "<div>\n",
              "<style scoped>\n",
              "    .dataframe tbody tr th:only-of-type {\n",
              "        vertical-align: middle;\n",
              "    }\n",
              "\n",
              "    .dataframe tbody tr th {\n",
              "        vertical-align: top;\n",
              "    }\n",
              "\n",
              "    .dataframe thead th {\n",
              "        text-align: right;\n",
              "    }\n",
              "</style>\n",
              "<table border=\"1\" class=\"dataframe\">\n",
              "  <thead>\n",
              "    <tr style=\"text-align: right;\">\n",
              "      <th></th>\n",
              "      <th>High</th>\n",
              "      <th>Low</th>\n",
              "      <th>Open</th>\n",
              "      <th>Close</th>\n",
              "      <th>Volume</th>\n",
              "      <th>Adj Close</th>\n",
              "      <th>Close_Tomorrow</th>\n",
              "      <th>Daily_Return</th>\n",
              "      <th>Direction</th>\n",
              "    </tr>\n",
              "    <tr>\n",
              "      <th>Date</th>\n",
              "      <th></th>\n",
              "      <th></th>\n",
              "      <th></th>\n",
              "      <th></th>\n",
              "      <th></th>\n",
              "      <th></th>\n",
              "      <th></th>\n",
              "      <th></th>\n",
              "      <th></th>\n",
              "    </tr>\n",
              "  </thead>\n",
              "  <tbody>\n",
              "    <tr>\n",
              "      <th>2018-01-02</th>\n",
              "      <td>64.421997</td>\n",
              "      <td>62.200001</td>\n",
              "      <td>62.400002</td>\n",
              "      <td>64.106003</td>\n",
              "      <td>21761000.0</td>\n",
              "      <td>64.106003</td>\n",
              "      <td>63.450001</td>\n",
              "      <td>-0.010233</td>\n",
              "      <td>-1</td>\n",
              "    </tr>\n",
              "    <tr>\n",
              "      <th>2018-01-03</th>\n",
              "      <td>65.050003</td>\n",
              "      <td>63.110001</td>\n",
              "      <td>64.199997</td>\n",
              "      <td>63.450001</td>\n",
              "      <td>22607500.0</td>\n",
              "      <td>63.450001</td>\n",
              "      <td>62.924000</td>\n",
              "      <td>-0.008290</td>\n",
              "      <td>-1</td>\n",
              "    </tr>\n",
              "    <tr>\n",
              "      <th>2018-01-04</th>\n",
              "      <td>63.709999</td>\n",
              "      <td>61.136002</td>\n",
              "      <td>62.574001</td>\n",
              "      <td>62.924000</td>\n",
              "      <td>49731500.0</td>\n",
              "      <td>62.924000</td>\n",
              "      <td>63.316002</td>\n",
              "      <td>0.006230</td>\n",
              "      <td>1</td>\n",
              "    </tr>\n",
              "    <tr>\n",
              "      <th>2018-01-05</th>\n",
              "      <td>63.448002</td>\n",
              "      <td>62.400002</td>\n",
              "      <td>63.324001</td>\n",
              "      <td>63.316002</td>\n",
              "      <td>22956000.0</td>\n",
              "      <td>63.316002</td>\n",
              "      <td>67.281998</td>\n",
              "      <td>0.062638</td>\n",
              "      <td>1</td>\n",
              "    </tr>\n",
              "    <tr>\n",
              "      <th>2018-01-08</th>\n",
              "      <td>67.403999</td>\n",
              "      <td>63.099998</td>\n",
              "      <td>63.200001</td>\n",
              "      <td>67.281998</td>\n",
              "      <td>49297000.0</td>\n",
              "      <td>67.281998</td>\n",
              "      <td>66.737999</td>\n",
              "      <td>-0.008085</td>\n",
              "      <td>-1</td>\n",
              "    </tr>\n",
              "  </tbody>\n",
              "</table>\n",
              "</div>"
            ],
            "text/plain": [
              "                 High        Low  ...  Daily_Return  Direction\n",
              "Date                              ...                         \n",
              "2018-01-02  64.421997  62.200001  ...     -0.010233         -1\n",
              "2018-01-03  65.050003  63.110001  ...     -0.008290         -1\n",
              "2018-01-04  63.709999  61.136002  ...      0.006230          1\n",
              "2018-01-05  63.448002  62.400002  ...      0.062638          1\n",
              "2018-01-08  67.403999  63.099998  ...     -0.008085         -1\n",
              "\n",
              "[5 rows x 9 columns]"
            ]
          },
          "metadata": {
            "tags": []
          },
          "execution_count": 34
        }
      ]
    },
    {
      "cell_type": "markdown",
      "metadata": {
        "id": "aGEf48DLzQyg",
        "colab_type": "text"
      },
      "source": [
        "### Moving Average"
      ]
    },
    {
      "cell_type": "code",
      "metadata": {
        "id": "P7ipz5yOzQUk",
        "colab_type": "code",
        "colab": {}
      },
      "source": [
        "df['10MA'] = df['Close'].rolling(10).mean() #this is fast signal\n",
        "df['35MA'] = df['Close'].rolling(35).mean() #this is slow signal"
      ],
      "execution_count": 36,
      "outputs": []
    },
    {
      "cell_type": "code",
      "metadata": {
        "id": "fOsHlmvyyHj9",
        "colab_type": "code",
        "colab": {
          "base_uri": "https://localhost:8080/",
          "height": 392
        },
        "outputId": "f6163c6f-e847-4f4b-e4ce-eeda7e30c800"
      },
      "source": [
        "df['Close'].plot(legend=True)\n",
        "df['10MA'].plot(legend=True)\n",
        "df['35MA'].plot(legend=True,figsize=(15,6))"
      ],
      "execution_count": 39,
      "outputs": [
        {
          "output_type": "execute_result",
          "data": {
            "text/plain": [
              "<matplotlib.axes._subplots.AxesSubplot at 0x7fc5a4d76278>"
            ]
          },
          "metadata": {
            "tags": []
          },
          "execution_count": 39
        },
        {
          "output_type": "display_data",
          "data": {
            "image/png": "[encoded data removed]",
            "text/plain": [
              "<Figure size 1080x432 with 1 Axes>"
            ]
          },
          "metadata": {
            "tags": [],
            "needs_background": "light"
          }
        }
      ]
    },
    {
      "cell_type": "markdown",
      "metadata": {
        "id": "IbuOoMIL2bXF",
        "colab_type": "text"
      },
      "source": [
        "* **Notes**\n",
        "* if 10ma > 35ma, hold(or buy) stock"
      ]
    }
  ]
}